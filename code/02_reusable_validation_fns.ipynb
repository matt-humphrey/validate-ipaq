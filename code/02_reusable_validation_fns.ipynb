{
 "cells": [
  {
   "cell_type": "code",
   "execution_count": null,
   "id": "ceff4348",
   "metadata": {},
   "outputs": [],
   "source": [
    "%load_ext rich\n",
    "%load_ext autoreload\n",
    "%autoreload 2"
   ]
  },
  {
   "cell_type": "code",
   "execution_count": null,
   "id": "c57667f1",
   "metadata": {},
   "outputs": [],
   "source": [
    "from pathlib import Path\n",
    "import polars as pl\n",
    "import pointblank as pb\n",
    "import numpy as np\n",
    "from rich import print as rprint\n",
    "\n",
    "from odyssey.core import *\n",
    "from odyssey.explore import *"
   ]
  },
  {
   "cell_type": "code",
   "execution_count": null,
   "id": "14077c77",
   "metadata": {},
   "outputs": [],
   "source": [
    "from config.paths import RAW_DATA"
   ]
  },
  {
   "cell_type": "code",
   "execution_count": null,
   "id": "418eca21",
   "metadata": {},
   "outputs": [],
   "source": [
    "g220 = Dataset(\"G220_Q.sav\", RAW_DATA)\n",
    "lf, meta = g220.load_data()"
   ]
  },
  {
   "cell_type": "code",
   "execution_count": null,
   "id": "faf77982",
   "metadata": {},
   "outputs": [],
   "source": [
    "cols = [\n",
    "    \"ID\",\n",
    "    \"G220_IPAQ_MOD_D\", \"G220_IPAQ_MOD_HPD\", \"G220_IPAQ_MOD_MPD\", \"G220_IPAQ_MOD_W\", \n",
    "    \"G220_IPAQ_VIG_D\", \"G220_IPAQ_VIG_HPD\", \"G220_IPAQ_VIG_MPD\", \"G220_IPAQ_VIG_W\", \n",
    "    \"G220_IPAQ_WALK_D\", \"G220_IPAQ_WALK_HPD\", \"G220_IPAQ_WALK_MPD\", \"G220_IPAQ_WALK_W\", \n",
    "    \"G220_IPAQ_SIT_WD_HPD\", \"G220_IPAQ_SIT_WD_MPD\", \n",
    "    \"G220_SIT_WD_TRUNC\", \"G220_IPAQ_SIT_COM\",\n",
    "    \"G220_VIG_MET\", \"G220_VIG_MINS\", \n",
    "    \"G220_MOD_MET\", \"G220_MOD_MINS\", \n",
    "    \"G220_WALK_MET\", \"G220_WALK_MINS\",\n",
    "    \"G220_IPAQ_CAT\", \"G220_TOT_MET\", \n",
    "]"
   ]
  },
  {
   "cell_type": "code",
   "execution_count": null,
   "id": "e5c6b8ec",
   "metadata": {},
   "outputs": [],
   "source": [
    "df = lf.select(cols).collect()"
   ]
  },
  {
   "cell_type": "code",
   "execution_count": null,
   "id": "8ea6d2b4",
   "metadata": {},
   "outputs": [],
   "source": [
    "def check_total_mins(df: pl.DataFrame) -> pl.DataFrame:\n",
    "    return df.with_columns(\n",
    "        (pl.col(\"G220_IPAQ_VIG_HPD\") * 60 + pl.col(\"G220_IPAQ_VIG_MPD\"))\n",
    "        # Cap values > 180 and preserve nulls\n",
    "        .pipe(lambda expr: pl.when(expr > 180).then(180).otherwise(expr))\n",
    "        .alias(\"check\")\n",
    "    )\n",
    "\n",
    "def check_met(df: pl.DataFrame) -> pl.DataFrame:\n",
    "    return df.with_columns(\n",
    "        (pl.col(\"G220_VIG_MINS\").fill_null(0) * pl.col(\"G220_IPAQ_VIG_D\").fill_null(0) * 8).alias(\"check\"),\n",
    "        pl.col(\"G220_VIG_MET\").fill_null(0)\n",
    "    )\n",
    "\n",
    "def check_tot_met(df: pl.DataFrame) -> pl.DataFrame:\n",
    "    cols_to_sum = [\"G220_VIG_MET\", \"G220_MOD_MET\", \"G220_WALK_MET\"]\n",
    "    expr = sum(pl.col(col).fill_null(0) for col in cols_to_sum)\n",
    "    \n",
    "    return df.with_columns(\n",
    "        expr.alias(\"check\"),\n",
    "        pl.col(\"G220_TOT_MET\").fill_null(0) # Fill nulls with 0; otherwise the validation skips if one value in a comparison is null\n",
    "    )"
   ]
  },
  {
   "cell_type": "code",
   "execution_count": null,
   "id": "9ef6caaf",
   "metadata": {},
   "outputs": [],
   "source": [
    "from typing import Callable"
   ]
  },
  {
   "cell_type": "code",
   "execution_count": null,
   "id": "f87a138a",
   "metadata": {},
   "outputs": [],
   "source": [
    "def check_total_mins(\n",
    "    hpd_column: str,\n",
    "    mpd_column: str\n",
    "    ) -> Callable:\n",
    "    \"\"\"\n",
    "    Returns a preprocessing function to verify the minutes for a given category have been correctly calculated.\n",
    "    Cap the total at 180 minutes, and preserve null values.\n",
    "    \"\"\"\n",
    "    def preprocessor(df: pl.DataFrame) -> pl.DataFrame:\n",
    "        return df.with_columns(\n",
    "            (pl.col(hpd_column) * 60 + pl.col(mpd_column))\n",
    "            .pipe(lambda expr: pl.when(expr > 180).then(180).otherwise(expr))\n",
    "            .alias(\"check\")\n",
    "        )\n",
    "    return preprocessor\n",
    "\n",
    "def check_met(\n",
    "    mins_column: str, \n",
    "    n_days_column: str, \n",
    "    met_column: str  \n",
    "    ) -> Callable:\n",
    "    \"\"\"Returns a preprocessing function to verify the calculated MET value for a given category.\"\"\"\n",
    "    def preprocessor(df: pl.DataFrame) -> pl.DataFrame:\n",
    "        return df.with_columns(\n",
    "            (pl.col(mins_column).fill_null(0) * pl.col(n_days_column).fill_null(0) * 8).alias(\"check\"),\n",
    "            pl.col(met_column).fill_null(0)\n",
    "        )\n",
    "    return preprocessor\n",
    "\n",
    "def check_tot_met(\n",
    "    met_columns: list[str],\n",
    "    tot_met_column: str\n",
    "    ) -> Callable:\n",
    "    \"\"\"Returns a preprocessing function to verify the calculated total MET value.\"\"\"\n",
    "    def preprocessor(df: pl.DataFrame) -> pl.DataFrame:\n",
    "        expr = sum(pl.col(col).fill_null(0) for col in met_columns)\n",
    "        \n",
    "        return df.with_columns(\n",
    "            expr.alias(\"check\"),\n",
    "            pl.col(tot_met_column).fill_null(0) # Fill nulls with 0; otherwise the validation skips if one value in a comparison is null\n",
    "        )\n",
    "    return preprocessor"
   ]
  },
  {
   "cell_type": "code",
   "execution_count": null,
   "id": "6fa9d095",
   "metadata": {},
   "outputs": [],
   "source": [
    "validation = (\n",
    "    pb.Validate(\n",
    "        data=df,\n",
    "        brief=\"Step {step}: {auto}\"\n",
    "    )\n",
    "    # If `VIG_W` was answered (0 or 1), corresponding values for `VIG_MINS` and `VIG_MET` exist are >= 0\n",
    "    .col_vals_between(\n",
    "        columns=pb.matches(\"VIG_MINS\"), \n",
    "        left=0,\n",
    "        right=180,\n",
    "        segments=(\"G220_IPAQ_VIG_W\", [0, 1]) # Only look at instances where there's the participant answered the question (ignore if skipped)\n",
    "    )\n",
    "    .col_vals_ge(\n",
    "        columns=pb.matches(\"VIG_MET\"), \n",
    "        value=0,\n",
    "        segments=(\"G220_IPAQ_VIG_W\", [0, 1]) # Only look at instances where there's the participant answered the question (ignore if skipped)\n",
    "    )\n",
    "    # If `VIG_W` is null, corresponding values for `VIG_MINS` and `VIG_MET` are also null\n",
    "    # TODO: simplify so it just accepts and segments by null values, rather than filling null with -1\n",
    "    .col_vals_null(\n",
    "        columns=pb.matches(\"VIG_(MINS|MET)\"),\n",
    "        pre=lambda df: df.with_columns(pl.col(\"G220_IPAQ_VIG_W\").fill_null(-1)), # Pointblank doesn't seem to like segmenting values with null, so transform null to -1 and segment y that\n",
    "        segments=(\"G220_IPAQ_VIG_W\", -1)\n",
    "    )\n",
    "    .col_vals_eq(\n",
    "        columns=pb.matches(\"VIG_MET\"), \n",
    "        value=0,\n",
    "        segments=(\"G220_IPAQ_VIG_D\", [0]) # Only look at instances where there's the participant answered the question (ignore if skipped)\n",
    "    )\n",
    "    .col_vals_eq(\n",
    "        columns=\"G220_VIG_MINS\",\n",
    "        value=pb.col(\"check\"), # the new created column\n",
    "        pre=check_total_mins,\n",
    "        brief=\"Check total mins/day equals `HPD*60 + MPD`\"\n",
    "    )\n",
    "    .col_vals_eq(\n",
    "        columns=\"G220_VIG_MET\",\n",
    "        value=pb.col(\"check\"),\n",
    "        pre=check_met,\n",
    "    )\n",
    "    .col_vals_eq(\n",
    "        columns=\"G220_TOT_MET\",\n",
    "        value=pb.col(\"check\"),\n",
    "        pre=check_tot_met,\n",
    "    )\n",
    "    .interrogate()\n",
    ")\n",
    "\n",
    "validation"
   ]
  }
 ],
 "metadata": {
  "language_info": {
   "name": "python"
  }
 },
 "nbformat": 4,
 "nbformat_minor": 5
}
