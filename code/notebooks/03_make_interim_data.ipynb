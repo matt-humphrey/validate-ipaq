{
 "cells": [
  {
   "cell_type": "code",
   "execution_count": null,
   "id": "56f947d4",
   "metadata": {},
   "outputs": [],
   "source": [
    "%load_ext rich\n",
    "%load_ext autoreload\n",
    "%autoreload 2"
   ]
  },
  {
   "cell_type": "code",
   "execution_count": null,
   "id": "798b5c99",
   "metadata": {},
   "outputs": [],
   "source": [
    "import polars as pl\n",
    "import pointblank as pb\n",
    "\n",
    "from odyssey.core import *\n",
    "from odyssey.explore import *\n",
    "from fastcore.utils import *\n",
    "\n",
    "from config import RAW_DATA, INTERIM_DATA, DATASETS"
   ]
  },
  {
   "cell_type": "markdown",
   "id": "2c7ca347",
   "metadata": {},
   "source": [
    "## Aim\n",
    "\n",
    "Explore which variables need to be renamed, and which are to be dropped.\n",
    "\n",
    "## TODO\n",
    "\n",
    "- [x] Rename variable names in config\n",
    "- [x] Apply renaming to data\n",
    "- [x] Apply renaming to metadata"
   ]
  },
  {
   "cell_type": "code",
   "execution_count": null,
   "id": "7ecc26e6",
   "metadata": {},
   "outputs": [],
   "source": [
    "from typing import Any\n",
    "\n",
    "def rename_metadata_variables(\n",
    "    metadata: dict[str, dict[str, Any]], \n",
    "    rename_map: dict[str, str],\n",
    "    ) -> dict[str, dict[str, Any]]:\n",
    "    \"\"\"\n",
    "    Apply variable renaming to nested metadata structure.\n",
    "    \"\"\"\n",
    "    return {\n",
    "        field: _rename_field_variables(field_dict, rename_map)\n",
    "        for field, field_dict in metadata.items()\n",
    "    }\n",
    "\n",
    "def _rename_field_variables(\n",
    "    field_dict: dict[str, Any], \n",
    "    rename_map: dict[str, str]\n",
    "    ) -> dict[str, Any]:\n",
    "    \"\"\"Rename variables in a single field's dictionary.\"\"\"\n",
    "    return {\n",
    "        rename_map.get(key, key): value \n",
    "        for key, value in field_dict.items()\n",
    "    }"
   ]
  },
  {
   "cell_type": "code",
   "execution_count": null,
   "id": "32357db5",
   "metadata": {},
   "outputs": [],
   "source": [
    "def create_interim_spss_files(\n",
    "    config: dict[str, Any],\n",
    "    dataset: str\n",
    ") -> None:\n",
    "    \"\"\"\n",
    "    Apply changes to create interim files by renaming and deleting specified variables.\n",
    "    \"\"\"\n",
    "    dset = _get_dataset_from_config(config, dataset)\n",
    "    file, vars_to_delete, vars_to_rename = dset.get(\"file\"), dset.get(\"delete\"), dset.get(\"rename\")\n",
    "    \n",
    "    data = Dataset(file, RAW_DATA)\n",
    "    lf, meta = data.load_data()\n",
    "\n",
    "    harmonised_lf = (\n",
    "        lf\n",
    "        .drop(vars_to_delete)\n",
    "        .rename(vars_to_rename)\n",
    "        .sort(by=\"ID\")\n",
    "    )\n",
    "\n",
    "    harmonised_meta = rename_metadata_variables(meta, vars_to_rename)\n",
    "\n",
    "    write_sav(INTERIM_DATA/file, harmonised_lf, harmonised_meta)\n",
    "\n",
    "def _get_dataset_from_config(\n",
    "    config: dict[str, Any],\n",
    "    dataset: str\n",
    ") -> dict[str, Any]:\n",
    "    \"Return the details for a specific dataset from config.\"\n",
    "    return config.get(dataset)"
   ]
  },
  {
   "cell_type": "code",
   "execution_count": null,
   "id": "a088ad45",
   "metadata": {},
   "outputs": [],
   "source": [
    "for dataset in DATASETS:\n",
    "    create_interim_spss_files(DATASETS, dataset=dataset)"
   ]
  }
 ],
 "metadata": {
  "language_info": {
   "name": "python"
  }
 },
 "nbformat": 4,
 "nbformat_minor": 5
}
