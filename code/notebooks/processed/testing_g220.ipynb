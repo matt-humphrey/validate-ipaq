{
 "cells": [
  {
   "cell_type": "code",
   "execution_count": 2,
   "metadata": {},
   "outputs": [],
   "source": [
    "%load_ext rich\n",
    "%load_ext autoreload\n",
    "%autoreload 2"
   ]
  },
  {
   "cell_type": "code",
   "execution_count": null,
   "metadata": {},
   "outputs": [],
   "source": [
    "import polars as pl\n",
    "import odyssey.core as od\n",
    "\n",
    "from utils import validate_ipaq\n",
    "from harmonise import harmonise_ipaq\n",
    "from config import INTERIM_DATA"
   ]
  },
  {
   "cell_type": "code",
   "execution_count": null,
   "metadata": {},
   "outputs": [],
   "source": [
    "prefix = \"G220\"\n",
    "g220 = od.Dataset(\"G220_Q.sav\", INTERIM_DATA)\n",
    "lf, _meta = g220.load_data()\n",
    "df = lf.select(\"ID\", pl.col(\"^.*IPAQ.*$\")).collect()"
   ]
  },
  {
   "cell_type": "code",
   "execution_count": null,
   "metadata": {},
   "outputs": [],
   "source": [
    "harmonised_df = harmonise_ipaq(prefix, df)\n",
    "harmonised_validation = validate_ipaq(prefix, harmonised_df)\n",
    "harmonised_validation"
   ]
  }
 ],
 "metadata": {
  "language_info": {
   "name": "python"
  }
 },
 "nbformat": 4,
 "nbformat_minor": 2
}
